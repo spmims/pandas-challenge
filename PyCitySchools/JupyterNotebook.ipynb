{
 "cells": [
  {
   "cell_type": "code",
   "execution_count": null,
   "metadata": {},
   "outputs": [],
   "source": []
  }
 ],
 "metadata": {
  "kernelspec": {
   "display_name": "base",
   "language": "python",
   "name": "python3"
  },
  "language_info": {
   "name": "python",
   "version": "3.9.13 (main, Aug 25 2022, 23:51:50) [MSC v.1916 64 bit (AMD64)]"
  },
  "orig_nbformat": 4,
  "vscode": {
   "interpreter": {
    "hash": "9ebd8e8d1b0305f2ca1748bded6e106af9e2d5c8d1f6114f903853d8ecc31588"
   }
  }
 },
 "nbformat": 4,
 "nbformat_minor": 2
}
